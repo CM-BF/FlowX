{
 "cells": [
  {
   "cell_type": "code",
   "execution_count": 1,
   "metadata": {},
   "outputs": [
    {
     "name": "stderr",
     "output_type": "stream",
     "text": [
      "Using TensorFlow backend.\n"
     ]
    }
   ],
   "source": [
    "from setup_mnist import MNIST"
   ]
  },
  {
   "cell_type": "code",
   "execution_count": 2,
   "metadata": {},
   "outputs": [],
   "source": [
    "import numpy as np\n",
    "from numpy import linalg as LA\n",
    "import matplotlib.pyplot as plt"
   ]
  },
  {
   "cell_type": "code",
   "execution_count": 3,
   "metadata": {},
   "outputs": [],
   "source": [
    "data =  MNIST()"
   ]
  },
  {
   "cell_type": "code",
   "execution_count": 4,
   "metadata": {},
   "outputs": [
    {
     "name": "stdout",
     "output_type": "stream",
     "text": [
      "Train size: (55000, 28, 28, 1)\n",
      "Validation size: (5000, 28, 28, 1)\n",
      "Test size: (10000, 28, 28, 1)\n"
     ]
    }
   ],
   "source": [
    "print(\"Train size:\", data.train_data.shape)\n",
    "print(\"Validation size:\", data.validation_data.shape)\n",
    "print(\"Test size:\", data.test_data.shape)"
   ]
  },
  {
   "cell_type": "code",
   "execution_count": 5,
   "metadata": {},
   "outputs": [],
   "source": [
    "X_train = data.train_data[:,:,:,0]*2+1\n",
    "X_test = data.test_data[:,:,:,0]*2+1\n",
    "Y_train = data.train_labels\n",
    "Y_test = data.test_labels"
   ]
  },
  {
   "cell_type": "code",
   "execution_count": 6,
   "metadata": {},
   "outputs": [],
   "source": [
    "def evaluate(X_test,Y_test,theta):\n",
    "    true = 0\n",
    "    for sample in range(X_test.shape[0]):\n",
    "        pred = [np.dot(X_test[sample].flatten(),theta[c].flatten()) for c in range(Y_test.shape[1])]\n",
    "        if np.argmax(np.asarray(pred)) == np.argmax(Y_test[sample]):\n",
    "            true = true + 1\n",
    "    \n",
    "    accuracy = true/X_test.shape[0]\n",
    "#     print(\"Accuracy: \", accuracy)\n",
    "    return accuracy"
   ]
  },
  {
   "cell_type": "code",
   "execution_count": 7,
   "metadata": {},
   "outputs": [],
   "source": [
    "def compute_proximal(gamma, lambda_, theta):\n",
    "    prox = theta\n",
    "    (c,width,height) = theta.shape\n",
    "    \n",
    "    theta_j = np.zeros(c)\n",
    "    for row in range(width):\n",
    "        for col in range(height):\n",
    "            theta_j = prox[:,row,col]\n",
    "            norm = LA.norm(theta_j)\n",
    "            if norm > gamma*lambda_:\n",
    "                coef = max(0, 1 - gamma*lambda_/norm)\n",
    "                theta_j = coef*theta_j\n",
    "            else:\n",
    "                theta_j = np.zeros(c)\n",
    "            \n",
    "            prox[:,row,col] = theta_j\n",
    "            \n",
    "    return prox"
   ]
  },
  {
   "cell_type": "code",
   "execution_count": 8,
   "metadata": {},
   "outputs": [],
   "source": [
    "def compute_g(gamma, Xi, Yi, theta):\n",
    "    yi = np.argmax(Yi)\n",
    "    g = np.zeros(theta.shape)\n",
    "    wyi = np.dot(Xi.flatten(),theta[yi].flatten())\n",
    "    \n",
    "    loss_i = 0\n",
    "    ci = yi\n",
    "    for c in range(Yi.shape[0]):\n",
    "        if c != yi:\n",
    "            loss_c = np.dot(Xi.flatten(),theta[c].flatten()) + 1 - wyi\n",
    "            if loss_c > loss_i:\n",
    "                loss_i = loss_c\n",
    "                ci = c\n",
    "    \n",
    "    if loss_i > 0:\n",
    "        g[ci] = Xi\n",
    "    \n",
    "    return g"
   ]
  },
  {
   "cell_type": "code",
   "execution_count": 9,
   "metadata": {},
   "outputs": [],
   "source": [
    "iterations = 1000000\n",
    "lambda_ = 0.01\n",
    "n = X_train.shape[0]\n",
    "theta = np.ones((Y_train.shape[1],X_train.shape[1],X_train.shape[2]))"
   ]
  },
  {
   "cell_type": "code",
   "execution_count": null,
   "metadata": {},
   "outputs": [],
   "source": [
    "results = []\n",
    "for t in range(iterations):\n",
    "    i = np.random.randint(n)\n",
    "    Xi = X_train[i]\n",
    "    Yi = Y_train[i]\n",
    "    gamma = 1/(t+1)\n",
    "    g = compute_g(gamma, Xi, Yi, theta)\n",
    "    theta = compute_proximal(gamma, lambda_, theta - gamma*g)\n",
    "    \n",
    "    if t%1000 == 0:\n",
    "        accuracy = evaluate(X_test,Y_test,theta)\n",
    "        results.append(accuracy)"
   ]
  },
  {
   "cell_type": "code",
   "execution_count": null,
   "metadata": {},
   "outputs": [],
   "source": [
    "plt.imshow(np.sum(np.absolute(theta),axis=0),vmin = 0, vmax = 10)"
   ]
  },
  {
   "cell_type": "code",
   "execution_count": null,
   "metadata": {},
   "outputs": [],
   "source": [
    "plt.imsave('l001.png', 10-np.sum(np.absolute(theta),axis=0),vmin = 0, vmax = 10, cmap='gray')"
   ]
  },
  {
   "cell_type": "code",
   "execution_count": null,
   "metadata": {},
   "outputs": [],
   "source": [
    "x_axis = 1000*np.asarray(range(len(results)))\n",
    "plt.plot(x_axis,results)"
   ]
  },
  {
   "cell_type": "code",
   "execution_count": null,
   "metadata": {},
   "outputs": [],
   "source": [
    "np.savetxt('lamda001', results)"
   ]
  },
  {
   "cell_type": "code",
   "execution_count": null,
   "metadata": {},
   "outputs": [],
   "source": []
  }
 ],
 "metadata": {
  "kernelspec": {
   "display_name": "Python 3",
   "language": "python",
   "name": "python3"
  },
  "language_info": {
   "codemirror_mode": {
    "name": "ipython",
    "version": 3
   },
   "file_extension": ".py",
   "mimetype": "text/x-python",
   "name": "python",
   "nbconvert_exporter": "python",
   "pygments_lexer": "ipython3",
   "version": "3.6.7"
  }
 },
 "nbformat": 4,
 "nbformat_minor": 2
}
