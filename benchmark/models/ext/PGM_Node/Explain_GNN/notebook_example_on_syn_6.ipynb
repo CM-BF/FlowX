{
 "cells": [
  {
   "cell_type": "code",
   "execution_count": 1,
   "metadata": {},
   "outputs": [],
   "source": [
    "import utils\n",
    "import models\n",
    "import numpy as np\n",
    "import torch\n",
    "import configs\n",
    "import pgm_explainer as pe\n",
    "from scipy.special import softmax\n",
    "import pandas as pd\n",
    "from pgmpy.estimators.CITests import chi_square\n",
    "from pgmpy.estimators import HillClimbSearch, BicScore\n",
    "from pgmpy.models import BayesianModel\n",
    "from pgmpy.inference import VariableElimination\n",
    "\n",
    "import argparse\n",
    "    \n",
    "def arg_parse():\n",
    "    parser = argparse.ArgumentParser(description=\"Explainer arguments.\")\n",
    "\n",
    "    parser.add_argument(\n",
    "            \"--bmname\", dest=\"bmname\", help=\"Name of the benchmark dataset\"\n",
    "        )\n",
    "    parser.add_argument(\"--dataset\", dest=\"dataset\", help=\"Input dataset.\")\n",
    "    parser.add_argument(\"--ckptdir\", dest=\"ckptdir\", help=\"Model checkpoint directory\")\n",
    "    parser.add_argument(\n",
    "            \"--gpu\",\n",
    "            dest=\"gpu\",\n",
    "            action=\"store_const\",\n",
    "            const=True,\n",
    "            default=False,\n",
    "            help=\"whether to use GPU.\",\n",
    "        )\n",
    "    parser.add_argument(\n",
    "            \"--node-start\", dest=\"node_start\", type=int, help=\"Index of starting node.\"\n",
    "        )\n",
    "    parser.add_argument(\n",
    "            \"--node-end\", dest=\"node_end\", type=int, help=\"Index of ending node.\"\n",
    "        )\n",
    "    parser.add_argument(\n",
    "            \"--num-perturb-samples\", dest=\"num_perturb_samples\", type=int, help=\"Number of perturbed sample using to generate explanations.\"\n",
    "        )\n",
    "    parser.add_argument(\n",
    "            \"--top-node\", dest=\"top_node\", type=int, help=\"Number of nodes in explanation.\"\n",
    "        )\n",
    "    parser.add_argument(\n",
    "            \"--epochs\", dest=\"num_epochs\", type=int, help=\"Number of epochs to train.\"\n",
    "        )\n",
    "    parser.add_argument(\n",
    "            \"--hidden-dim\", dest=\"hidden_dim\", type=int, help=\"Hidden dimension\"\n",
    "        )\n",
    "    parser.add_argument(\n",
    "            \"--output-dim\", dest=\"output_dim\", type=int, help=\"Output dimension\"\n",
    "        )\n",
    "    parser.add_argument(\n",
    "            \"--num-gc-layers\",\n",
    "            dest=\"num_gc_layers\",\n",
    "            type=int,\n",
    "            help=\"Number of graph convolution layers before each pooling\",\n",
    "        )\n",
    "    parser.add_argument(\n",
    "            \"--bn\",\n",
    "            dest=\"bn\",\n",
    "            action=\"store_const\",\n",
    "            const=True,\n",
    "            default=False,\n",
    "            help=\"Whether batch normalization is used\",\n",
    "        )\n",
    "    parser.add_argument(\"--dropout\", dest=\"dropout\", type=float, help=\"Dropout rate.\")\n",
    "    parser.add_argument(\n",
    "            \"--method\", dest=\"method\", type=str, help=\"Method. Possible values: base, att.\"\n",
    "        )\n",
    "    parser.add_argument(\n",
    "            \"--nobias\",\n",
    "            dest=\"bias\",\n",
    "            action=\"store_const\",\n",
    "            const=False,\n",
    "            default=True,\n",
    "            help=\"Whether to add bias. Default to True.\",\n",
    "        )\n",
    "    \n",
    "        # Explainer\n",
    "   \n",
    "    \n",
    "\n",
    "    parser.set_defaults(\n",
    "            ckptdir=None,\n",
    "            dataset=\"syn1\",\n",
    "            opt=\"adam\",  \n",
    "            opt_scheduler=\"none\",\n",
    "            lr=0.1,\n",
    "            clip=2.0,\n",
    "            batch_size=20,\n",
    "            num_epochs=100,\n",
    "            hidden_dim=20,\n",
    "            output_dim=20,\n",
    "            num_gc_layers=3,\n",
    "            method=\"base\",\n",
    "            dropout=0.0,\n",
    "            node_start = None,\n",
    "            node_end = None,\n",
    "            num_perturb_samples = 100,\n",
    "            top_node = None\n",
    "        )\n",
    "    \n",
    "    return parser"
   ]
  },
  {
   "cell_type": "code",
   "execution_count": 2,
   "metadata": {},
   "outputs": [],
   "source": [
    "prog_args = arg_parse()\n",
    "args= prog_args.parse_args(['--dataset','syn6','--num-perturb-samples', '2000','--top-node', '5'])"
   ]
  },
  {
   "cell_type": "code",
   "execution_count": 3,
   "metadata": {},
   "outputs": [
    {
     "name": "stdout",
     "output_type": "stream",
     "text": [
      "loading model\n",
      "../Train_GNN_model/ckpt\\syn6.pth.tar\n",
      "=> loading checkpoint '../Train_GNN_model/ckpt\\syn6.pth.tar'\n",
      "input dim:  10 ; num classes:  4\n"
     ]
    }
   ],
   "source": [
    "# Load model\n",
    "A, X = utils.load_XA(args.dataset, datadir = \"../Generate_XA_Data/XAL\")\n",
    "L = utils.load_labels(args.dataset, datadir = \"../Generate_XA_Data/XAL\")\n",
    "num_classes = max(L) + 1\n",
    "input_dim = X.shape[1]\n",
    "num_nodes = X.shape[0]\n",
    "ckpt = utils.load_ckpt(args)\n",
    "\n",
    "print(\"input dim: \", input_dim, \"; num classes: \", num_classes)\n",
    "    \n",
    "model = models.GcnEncoderNode(\n",
    "        input_dim=input_dim,\n",
    "        hidden_dim=args.hidden_dim,\n",
    "        embedding_dim=args.output_dim,\n",
    "        label_dim=num_classes,\n",
    "        num_layers=args.num_gc_layers,\n",
    "        bn=args.bn,\n",
    "        args=args,\n",
    "        )\n",
    "model.load_state_dict(ckpt[\"model_state\"]) \n",
    "pred = ckpt[\"save_data\"][\"pred\"]"
   ]
  },
  {
   "cell_type": "code",
   "execution_count": 4,
   "metadata": {},
   "outputs": [],
   "source": [
    "import random\n",
    "random.seed(21)"
   ]
  },
  {
   "cell_type": "code",
   "execution_count": 5,
   "metadata": {},
   "outputs": [],
   "source": [
    "# Range of node to explain in this dataset is from 300 to 700\n",
    "# nodes_to_explain = list(range(300,700)) \n",
    "target = 304"
   ]
  },
  {
   "cell_type": "code",
   "execution_count": 6,
   "metadata": {},
   "outputs": [
    {
     "name": "stdout",
     "output_type": "stream",
     "text": [
      "Explainer settings\n",
      "\\ A dim:  (700, 700)\n",
      "\\ X dim:  (700, 10)\n",
      "\\ Number of layers:  3\n",
      "\\ Perturbation mode:  0\n",
      "\\ Print result:  1\n"
     ]
    }
   ],
   "source": [
    "# Construct the explainer\n",
    "explainer = pe.Node_Explainer(model, A, X, pred, 3)"
   ]
  },
  {
   "cell_type": "code",
   "execution_count": 7,
   "metadata": {},
   "outputs": [
    {
     "name": "stdout",
     "output_type": "stream",
     "text": [
      "Explaining node: 304\n"
     ]
    }
   ],
   "source": [
    "# Explaining the target node\n",
    "subnodes, data, stats = explainer.explain(target, num_samples = 800, top_node = 5, pred_threshold = 0.2)"
   ]
  },
  {
   "cell_type": "code",
   "execution_count": 8,
   "metadata": {},
   "outputs": [
    {
     "name": "stdout",
     "output_type": "stream",
     "text": [
      "MK-blanket of target node: [300, 304, 303, 302, 301]\n"
     ]
    }
   ],
   "source": [
    "print(\"MK-blanket of target node:\", subnodes)"
   ]
  },
  {
   "cell_type": "code",
   "execution_count": 9,
   "metadata": {},
   "outputs": [
    {
     "name": "stdout",
     "output_type": "stream",
     "text": [
      "Generate the PGM\n",
      "PGM Nodes:  ['300', '303', '302', '301', '304']\n",
      "PGM Edges:  [('300', '301'), ('300', '304'), ('303', '304'), ('302', '304'), ('301', '302'), ('301', '304')]\n"
     ]
    }
   ],
   "source": [
    "print(\"Generate the PGM\")\n",
    "pgm_explanation = explainer.pgm_generate(target, data, stats, subnodes)\n",
    "print(\"PGM Nodes: \", pgm_explanation.nodes())\n",
    "print(\"PGM Edges: \", pgm_explanation.edges())"
   ]
  },
  {
   "cell_type": "code",
   "execution_count": 10,
   "metadata": {},
   "outputs": [
    {
     "name": "stdout",
     "output_type": "stream",
     "text": [
      "The variables in the PGM is 'str' while the nodes' names in the dataset is 'int' so we converse them for convenient\n"
     ]
    }
   ],
   "source": [
    "print(\"The variables in the PGM is 'str' while the nodes' names in the dataset is 'int' so we converse them for convenient\")\n",
    "target_name = str(target)\n",
    "explaining_nodes = [node for node in pgm_explanation.nodes() if node != target_name]"
   ]
  },
  {
   "cell_type": "code",
   "execution_count": 11,
   "metadata": {},
   "outputs": [
    {
     "name": "stdout",
     "output_type": "stream",
     "text": [
      "Compute marginal probability of the target prediction with no observation\n",
      "0.748674823283859\n"
     ]
    }
   ],
   "source": [
    "print(\"Compute marginal probability of the target prediction with no observation\")\n",
    "marginal_prob = explainer.pgm_conditional_prob(target_name, pgm_explanation, [])\n",
    "print(marginal_prob)"
   ]
  },
  {
   "cell_type": "code",
   "execution_count": 12,
   "metadata": {},
   "outputs": [
    {
     "name": "stdout",
     "output_type": "stream",
     "text": [
      "Target's label is:  3\n",
      "Probability that the target's label is 3 given ['300'] is 0.8185635074423858\n",
      "Probability that the target's label is 3 given ['300', '303'] is 0.8415768150870035\n",
      "Probability that the target's label is 3 given ['300', '303', '302'] is 0.9392668779117312\n",
      "Probability that the target's label is 3 given ['300', '303', '302', '301'] is 1.0\n"
     ]
    }
   ],
   "source": [
    "target_label = np.argmax(pred[0,target])\n",
    "print(\"Target's label is: \", target_label)\n",
    "for num_of_evidence in range(len(explaining_nodes)):\n",
    "    cond_prob = explainer.pgm_conditional_prob(target_name, pgm_explanation, explaining_nodes[0:num_of_evidence+1])\n",
    "    print(\"Probability that the target's label is {} given {} is {}\".format(target_label,\n",
    "                                                                            explaining_nodes[0:num_of_evidence+1],\n",
    "                                                                           cond_prob))"
   ]
  },
  {
   "cell_type": "code",
   "execution_count": 13,
   "metadata": {},
   "outputs": [
    {
     "name": "stdout",
     "output_type": "stream",
     "text": [
      "Draw pgm explaination using networkx\n"
     ]
    },
    {
     "data": {
      "image/png": "[encoded data removed]",
      "text/plain": [
       "<Figure size 432x288 with 1 Axes>"
      ]
     },
     "metadata": {},
     "output_type": "display_data"
    }
   ],
   "source": [
    "import networkx as nx\n",
    "import pylab as plt\n",
    "print(\"Draw pgm explaination using networkx\")\n",
    "nx.draw(pgm_explanation, with_labels=True)\n",
    "plt.show()"
   ]
  },
  {
   "cell_type": "code",
   "execution_count": 14,
   "metadata": {},
   "outputs": [],
   "source": [
    "loc = [(0, 0), (-5, -5), (5, -5), (5, 5), (-5,5)]\n",
    "pos = dict(zip(pgm_explanation.nodes(), loc))\n",
    "color_dict = dict(zip(range(pred.shape[2]), ['y','b','m','r']))\n",
    "color = [color_dict[ np.argmax(pred[0,int(node),:])] for node in pgm_explanation.nodes()]\n",
    "name_dict = [r'$A$',r'$B$',r'$C$',r'$D$',r'$E$']\n",
    "name = dict(zip(pgm_explanation.nodes(), name_dict))"
   ]
  },
  {
   "cell_type": "code",
   "execution_count": 15,
   "metadata": {},
   "outputs": [],
   "source": [
    "gt_graph = nx.Graph()\n",
    "gt_graph.add_nodes_from(pos.keys(), size=50)\n",
    "edges_list = [('300', '301'),('301', '302'),('302', '300'),('303', '300'),('304', '300')]\n",
    "gt_graph.add_edges_from(edges_list)"
   ]
  },
  {
   "cell_type": "code",
   "execution_count": 16,
   "metadata": {},
   "outputs": [
    {
     "name": "stdout",
     "output_type": "stream",
     "text": [
      "Ground truth explaination of node  $E$\n"
     ]
    },
    {
     "data": {
      "text/plain": [
       "{'300': Text(0, 0, '$A$'),\n",
       " '303': Text(-5, -5, '$B$'),\n",
       " '302': Text(5, -5, '$C$'),\n",
       " '301': Text(5, 5, '$D$'),\n",
       " '304': Text(-5, 5, '$E$')}"
      ]
     },
     "execution_count": 16,
     "metadata": {},
     "output_type": "execute_result"
    },
    {
     "data": {
      "image/png": "[encoded data removed]",
      "text/plain": [
       "<Figure size 288x288 with 1 Axes>"
      ]
     },
     "metadata": {},
     "output_type": "display_data"
    }
   ],
   "source": [
    "print(\"Ground truth explaination of node \", name[target_name])\n",
    "figure1, ax1 = plt.subplots(figsize = (4,4))\n",
    "ax1.axis('off')\n",
    "nx.draw_networkx_nodes(gt_graph,pos,node_size=400,node_color= color)\n",
    "nx.draw_networkx_edges(gt_graph,pos,\n",
    "                       edgelist= edges_list,\n",
    "                       width=2.0,alpha=1)\n",
    "nx.draw_networkx_labels(gt_graph,pos,name,font_size=18, font_family = 'serif', font_weight = 'normal',\n",
    "                        font_color = 'w')\n",
    "\n",
    "# filename = 'view/motif_' + str(explained_node)+ '.jpg' \n",
    "# figure1.savefig(filename, dpi=90, bbox_inches='tight')"
   ]
  },
  {
   "cell_type": "code",
   "execution_count": 17,
   "metadata": {},
   "outputs": [
    {
     "name": "stdout",
     "output_type": "stream",
     "text": [
      "PGM explaination of node  $E$\n"
     ]
    },
    {
     "data": {
      "text/plain": [
       "{'300': Text(0, 0, '$A$'),\n",
       " '303': Text(-5, -5, '$B$'),\n",
       " '302': Text(5, -5, '$C$'),\n",
       " '301': Text(5, 5, '$D$'),\n",
       " '304': Text(-5, 5, '$E$')}"
      ]
     },
     "execution_count": 17,
     "metadata": {},
     "output_type": "execute_result"
    },
    {
     "data": {
      "image/png": "[encoded data removed]",
      "text/plain": [
       "<Figure size 288x288 with 1 Axes>"
      ]
     },
     "metadata": {},
     "output_type": "display_data"
    }
   ],
   "source": [
    "print(\"PGM explaination of node \", name[target_name])\n",
    "\n",
    "figure2, ax = plt.subplots(figsize = (4,4))\n",
    "ax.axis('off')\n",
    "nx.draw_networkx_nodes(pgm_explanation,pos,node_size=400,node_color= color)\n",
    "nx.draw_networkx_edges(pgm_explanation,pos,\n",
    "                       edgelist= pgm_explanation.edges,\n",
    "                       connectionstyle='arc3, rad = 0.2',\n",
    "                       width=2.0,alpha=0.8)\n",
    "nx.draw_networkx_labels(pgm_explanation,pos,name,font_size=18, font_family = 'serif', font_color = 'w')\n",
    "\n",
    "# filename = 'view/pgm_' + str(explained_node)+ '.jpg' \n",
    "# figure2.savefig(filename, dpi=90, bbox_inches='tight')"
   ]
  },
  {
   "cell_type": "code",
   "execution_count": null,
   "metadata": {},
   "outputs": [],
   "source": []
  },
  {
   "cell_type": "code",
   "execution_count": null,
   "metadata": {},
   "outputs": [],
   "source": []
  },
  {
   "cell_type": "code",
   "execution_count": null,
   "metadata": {},
   "outputs": [],
   "source": []
  }
 ],
 "metadata": {
  "kernelspec": {
   "display_name": "Python 3",
   "language": "python",
   "name": "python3"
  },
  "language_info": {
   "codemirror_mode": {
    "name": "ipython",
    "version": 3
   },
   "file_extension": ".py",
   "mimetype": "text/x-python",
   "name": "python",
   "nbconvert_exporter": "python",
   "pygments_lexer": "ipython3",
   "version": "3.7.4"
  }
 },
 "nbformat": 4,
 "nbformat_minor": 2
}
